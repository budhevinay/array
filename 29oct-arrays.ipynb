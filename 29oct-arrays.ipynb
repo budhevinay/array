{
 "cells": [
  {
   "cell_type": "code",
   "execution_count": 9,
   "id": "90d753bd-f581-440e-98e0-b26dd1d5cea1",
   "metadata": {},
   "outputs": [],
   "source": [
    "#1. Given an array, check if it contains any duplicates or not.\n",
    "\n",
    "def array(arr):\n",
    "    arr = [1, 2, 4, 2, 5, 9]\n",
    "    a=set(arr)\n",
    "    if len(arr)==len(a):\n",
    "        return True\n",
    "    else:\n",
    "        return False\n"
   ]
  },
  {
   "cell_type": "code",
   "execution_count": 10,
   "id": "e018c2e3-3bfa-4c93-b6a6-e3322ad393f0",
   "metadata": {},
   "outputs": [
    {
     "data": {
      "text/plain": [
       "False"
      ]
     },
     "execution_count": 10,
     "metadata": {},
     "output_type": "execute_result"
    }
   ],
   "source": [
    "array([1, 2, 4, 2, 5, 9])"
   ]
  },
  {
   "cell_type": "code",
   "execution_count": 30,
   "id": "35792d4f-5a25-42c5-a0ce-b93621e2f8b9",
   "metadata": {},
   "outputs": [
    {
     "data": {
      "text/plain": [
       "[5, 6, 7, 1, 2, 3, 4]"
      ]
     },
     "execution_count": 30,
     "metadata": {},
     "output_type": "execute_result"
    }
   ],
   "source": [
    "#2. Given an array and an integer k, rotate the array to the right by k steps.\n",
    "\n",
    "def rotate_array(arr,k):\n",
    "    n=len(arr)\n",
    "    a=arr[n-k:]+arr[:n-k]\n",
    "    return a\n",
    "\n",
    "k = 3\n",
    "arr = [1, 2, 3, 4, 5, 6, 7] \n",
    "rotate_array(arr,k)\n",
    "\n"
   ]
  },
  {
   "cell_type": "code",
   "execution_count": 2,
   "id": "ebbbe2c2-aea4-4a9a-94e6-6d7cc5ac357c",
   "metadata": {},
   "outputs": [
    {
     "name": "stdout",
     "output_type": "stream",
     "text": [
      "Original Array: [1, 2, 3, 4, 5]\n",
      "Reversed Array: [5, 4, 3, 2, 1]\n"
     ]
    }
   ],
   "source": [
    "#3.Reverse the given array in-place, means without using any extra data structure.\n",
    "def reverse_array(arr):\n",
    "    start = 0\n",
    "    end = len(arr) - 1\n",
    "\n",
    "    while start < end:\n",
    "       \n",
    "        arr[start], arr[end] = arr[end], arr[start]\n",
    "\n",
    "        start += 1\n",
    "        end -= 1\n",
    "\n",
    "my_array = [1, 2, 3, 4, 5]\n",
    "print(\"Original Array:\", my_array)\n",
    "\n",
    "reverse_array(my_array)\n",
    "\n",
    "print(\"Reversed Array:\", my_array)\n"
   ]
  },
  {
   "cell_type": "code",
   "execution_count": 5,
   "id": "bd677ede-ca90-4676-aeda-e1a835d9ace1",
   "metadata": {},
   "outputs": [
    {
     "name": "stdout",
     "output_type": "stream",
     "text": [
      "The maximum element in the array is: 10\n"
     ]
    }
   ],
   "source": [
    "#4.Given an array of integers, find the maximum element in an array\n",
    "def find_max_element(arr):\n",
    "    if not arr:\n",
    "        return None  \n",
    "\n",
    "    max_element = arr[0]  \n",
    "\n",
    "    for num in arr[1:]:\n",
    "        if num > max_element:\n",
    "            max_element = num\n",
    "\n",
    "    return max_element\n",
    "\n",
    "\n",
    "my_array = [3, 7, 2, 8, 5, 10]\n",
    "maximum = find_max_element(my_array)\n",
    "\n",
    "if maximum is not None:\n",
    "    print(f\"The maximum element in the array is: {maximum}\")\n",
    "else:\n",
    "    print(\"The array is empty.\")\n",
    "\n"
   ]
  },
  {
   "cell_type": "code",
   "execution_count": 4,
   "id": "23d7e001-ca79-42a2-904b-d23fbad9135a",
   "metadata": {},
   "outputs": [
    {
     "name": "stdout",
     "output_type": "stream",
     "text": [
      "Original Array: [1, 1, 2, 2, 2, 3, 4, 4, 5]\n",
      "Array after removing duplicates: [1, 2, 3, 4, 5]\n"
     ]
    }
   ],
   "source": [
    "#5.Given a sorted array, remove the duplicate element without using any extra data structure.\n",
    "def remove_duplicates(nums):\n",
    "    if not nums:\n",
    "        return 0\n",
    "\n",
    "    i = 0\n",
    "\n",
    "    for j in range(1, len(nums)):\n",
    "        if nums[j] != nums[i]:\n",
    "            i += 1\n",
    "            nums[i] = nums[j]\n",
    "\n",
    "   \n",
    "    del nums[i + 1:]\n",
    "\n",
    "    return i + 1\n",
    "\n",
    "\n",
    "sorted_array = [1, 1, 2, 2, 2, 3, 4, 4, 5]\n",
    "print(\"Original Array:\", sorted_array)\n",
    "\n",
    "new_length = remove_duplicates(sorted_array)\n",
    "\n",
    "print(\"Array after removing duplicates:\", sorted_array[:new_length])\n"
   ]
  },
  {
   "cell_type": "code",
   "execution_count": null,
   "id": "4af58e08-82b6-429c-97cb-33580f863ed5",
   "metadata": {},
   "outputs": [],
   "source": []
  }
 ],
 "metadata": {
  "kernelspec": {
   "display_name": "Python 3 (ipykernel)",
   "language": "python",
   "name": "python3"
  },
  "language_info": {
   "codemirror_mode": {
    "name": "ipython",
    "version": 3
   },
   "file_extension": ".py",
   "mimetype": "text/x-python",
   "name": "python",
   "nbconvert_exporter": "python",
   "pygments_lexer": "ipython3",
   "version": "3.10.8"
  }
 },
 "nbformat": 4,
 "nbformat_minor": 5
}
